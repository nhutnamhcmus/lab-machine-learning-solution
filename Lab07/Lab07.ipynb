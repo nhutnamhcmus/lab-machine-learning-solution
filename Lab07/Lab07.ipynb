{
 "cells": [
  {
   "cell_type": "markdown",
   "metadata": {},
   "source": [
    "# Lab 07: Neural Network with Backpropagation\n",
    "Bài tập này tương tự với Lab 03 Linear Regression, cơ bản chỉ khác thay vì dùng hàm linear, ta dùng một model neural network."
   ]
  },
  {
   "cell_type": "markdown",
   "metadata": {},
   "source": [
    "### 1.1 Data\n",
    "\n",
    "Data dùng trong bài thực hành này gồm chiều dài dọc gân lá ($x_1$) và chiều ngang gân lá ($x_2$) và loại lá ($y$, có giá trị 0 hoặc 1).\n"
   ]
  },
  {
   "cell_type": "code",
   "execution_count": null,
   "metadata": {},
   "outputs": [],
   "source": [
    "import numpy as np\n",
    "import matplotlib.pyplot as plt\n",
    "import pandas as pd\n",
    "\n",
    "train = pd.read_csv(\"bt_train.csv\")\n",
    "train.head()"
   ]
  },
  {
   "cell_type": "code",
   "execution_count": null,
   "metadata": {},
   "outputs": [],
   "source": [
    "\n",
    "x1_train = train['x1'].values\n",
    "x2_train = train['x2'].values\n",
    "y_train = train['label'].values\n",
    "\n",
    "plt.scatter(x1_train[y_train == 0], x2_train[y_train==0])\n",
    "plt.scatter(x1_train[y_train == 1], x2_train[y_train==1])\n",
    "plt.scatter(x1_train[y_train == 2], x2_train[y_train==2])\n",
    "\n",
    "plt.figure()\n",
    "valid = pd.read_csv(\"bt_valid.csv\")\n",
    "x1_valid = valid['x1'].values\n",
    "x2_valid = valid['x2'].values\n",
    "y_valid = valid['label'].values\n",
    "\n",
    "plt.scatter(x1_valid[y_valid == 0], x2_valid[y_valid==0])\n",
    "plt.scatter(x1_valid[y_valid == 1], x2_valid[y_valid==1])\n",
    "plt.scatter(x1_valid[y_valid == 2], x2_valid[y_valid==2])\n",
    "\n",
    "## normalization\n",
    "x1_mean = np.mean(x1_train)\n",
    "x1_std = np.std(x1_train)\n",
    "x2_mean = np.mean(x2_train)\n",
    "x2_std = np.std(x2_train)\n",
    "\n",
    "x1_train = (x1_train - x1_mean)/ x1_std\n",
    "x2_train = (x2_train - x2_mean)/ x2_std\n",
    "\n",
    "x1_valid = (x1_valid - x1_mean)/ x1_std\n",
    "x2_valid = (x2_valid - x2_mean)/ x2_std"
   ]
  },
  {
   "cell_type": "markdown",
   "metadata": {},
   "source": [
    "### 1.2 Multi-class classification\n",
    "Ta muốn dựa vào 2 chiều của lá, phân biệt giữa loại lá 1 và loại lá 2. Cụ thể, với $x = (x_1,x_2, 1)$ là input, ta muốn đoán một phân phối\n",
    "$$ P_\\theta(c|x),c = 0, 1 $$\n",
    "với $\\theta$ là các tham số.\n",
    "\n",
    "Ta mô hình $P_\\theta$ là một neural network có 2 lớp ẩn, mỗi lớp 5 neurons, tức là\n",
    "$$ P_\\theta(c|x) = \\text{softmax}(\\max(0, \\max(0, x \\cdot W_1 + b_1) \\cdot W_2 + b_2) \\cdot W_3 + b_3 )$$\n",
    "với $x$ là vector dòng $[[x_1, x_2]]$ kích thước $ 1\\times 2$, $W_1, W_2, W_3$ là các ma trận có kích thước $2 \\times 5, 5 \\times 5, 5 \\times 3$, và $b_1, b_2, b_3$ là các ma trận kích thước $1 \\times 5, 1 \\times 5, 1 \\times 3$. \n",
    "\n",
    "Khi đó $P(c|x)$ là một vector dòng độ dài 3, xem như  $P(c|x)= (P_1(c|x), P_2(c|x), P_3(c|x)) = (P(c=0|x), P(c=1|x), P(c=2|x))$\n",
    "\n",
    "Bộ bác ma trận $\\theta = (W_1, W_2, W_3, b_1, b_2, b_3)$ chính là tham số cần tìm của model. Giờ cần tìm $\\theta$ sao cho \n",
    "$$ L = \\frac{1}{N} \\sum_{x,y} - y_0 \\log P_\\theta(0|x) -  y_1 \\log P_\\theta(1|x) - y_2 \\log P_\\theta(2|x) $$\n",
    "đạt giá trị nhỏ nhất với $y = (y_0, y_1, y_2)$ là one-hot vector biểu thị loại lá tương ứng với $x$.\n",
    "\n"
   ]
  },
  {
   "cell_type": "markdown",
   "metadata": {},
   "source": [
    "## Bài tập\n",
    "- (33% điểm) Dùng sklearn train model neural network với tối thiểu 2 layer ẩn để đạt accuracy tốt nhất trên tập valid\n",
    "- (100% điểm) Cài đặt lại backpropagation bằng numpy để tự học các ma trận $\\theta$, huấn luyện đạt accuracy tốt nhất.\n",
    "\n",
    "Điểm Lab này có giá trị bằng 2 Lab thường, được làm trong 2 tuần."
   ]
  },
  {
   "cell_type": "markdown",
   "metadata": {},
   "source": [
    "## Nộp bài\n",
    "- Bài tập Lab 07 sẽ có 2 tuần để làm.\n",
    "- Code và chạy kết quả lưu vào file notebook NMMH_TH7_MSSV.ipynb (notebook phải có kết quả chạy nếu ko xem như chưa làm)\n",
    "- Nén thành file NMMH_TH7_MSSV.rar (.zip) và nộp về: dinhvietcuong1996@gmail.com\n",
    "- Deadline: 23g59 thứ 3 ngày 21/07/2020. Nộp trễ bị chia đôi số điểm."
   ]
  },
  {
   "cell_type": "code",
   "execution_count": null,
   "metadata": {},
   "outputs": [],
   "source": []
  }
 ],
 "metadata": {
  "kernelspec": {
   "display_name": "Python 3",
   "language": "python",
   "name": "python3"
  },
  "language_info": {
   "codemirror_mode": {
    "name": "ipython",
    "version": 3
   },
   "file_extension": ".py",
   "mimetype": "text/x-python",
   "name": "python",
   "nbconvert_exporter": "python",
   "pygments_lexer": "ipython3",
   "version": "3.6.8"
  }
 },
 "nbformat": 4,
 "nbformat_minor": 4
}