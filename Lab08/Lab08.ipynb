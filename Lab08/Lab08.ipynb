{
 "cells": [
  {
   "cell_type": "markdown",
   "metadata": {},
   "source": [
    "# Bài 8: Keras, Regression\n",
    "\n",
    "Trong bài thực hành này, chúng ta sẽ \n",
    "- Làm quen với Tensorflow thông qua các bài toán Regression\n"
   ]
  },
  {
   "cell_type": "markdown",
   "metadata": {},
   "source": [
    "## 1. Dự đoán giá nhà (Lab 01)"
   ]
  },
  {
   "cell_type": "code",
   "execution_count": 1,
   "metadata": {},
   "outputs": [
    {
     "output_type": "execute_result",
     "data": {
      "text/plain": [
       "   width  length         price\n",
       "0     28      97  3.350184e+08\n",
       "1     21      62  2.298295e+08\n",
       "2     27      64  2.603552e+08\n",
       "3      5      92  2.064708e+08\n",
       "4     13      84  2.339808e+08"
      ],
      "text/html": "<div>\n<style scoped>\n    .dataframe tbody tr th:only-of-type {\n        vertical-align: middle;\n    }\n\n    .dataframe tbody tr th {\n        vertical-align: top;\n    }\n\n    .dataframe thead th {\n        text-align: right;\n    }\n</style>\n<table border=\"1\" class=\"dataframe\">\n  <thead>\n    <tr style=\"text-align: right;\">\n      <th></th>\n      <th>width</th>\n      <th>length</th>\n      <th>price</th>\n    </tr>\n  </thead>\n  <tbody>\n    <tr>\n      <th>0</th>\n      <td>28</td>\n      <td>97</td>\n      <td>3.350184e+08</td>\n    </tr>\n    <tr>\n      <th>1</th>\n      <td>21</td>\n      <td>62</td>\n      <td>2.298295e+08</td>\n    </tr>\n    <tr>\n      <th>2</th>\n      <td>27</td>\n      <td>64</td>\n      <td>2.603552e+08</td>\n    </tr>\n    <tr>\n      <th>3</th>\n      <td>5</td>\n      <td>92</td>\n      <td>2.064708e+08</td>\n    </tr>\n    <tr>\n      <th>4</th>\n      <td>13</td>\n      <td>84</td>\n      <td>2.339808e+08</td>\n    </tr>\n  </tbody>\n</table>\n</div>"
     },
     "metadata": {},
     "execution_count": 1
    }
   ],
   "source": [
    "import pandas as pd\n",
    "import numpy as np\n",
    "df = pd.read_csv(\"House_Price.csv\")   \n",
    "df.head()"
   ]
  },
  {
   "cell_type": "code",
   "execution_count": 2,
   "metadata": {},
   "outputs": [],
   "source": [
    "from sklearn.model_selection import train_test_split\n",
    "df_train, df_test = train_test_split(df, test_size=0.1)\n",
    "\n",
    "## dùng width và length để đoán price\n",
    "X_train = df_train[['width', 'length']].values    \n",
    "X_test = df_test[['width', 'length']].values\n",
    "\n",
    "X_means = np.mean(X_train, axis=0)\n",
    "X_stds = np.std(X_train, axis=0)\n",
    "X_train = (X_train - X_means)/X_stds\n",
    "X_test = (X_test - X_means)/X_stds\n",
    "\n",
    "y_train = df_train['price'].values\n",
    "y_test = df_test['price'].values\n",
    "\n",
    "y_means = np.mean(y_train, axis=0)\n",
    "y_stds = np.std(y_train, axis=0)\n"
   ]
  },
  {
   "cell_type": "code",
   "execution_count": null,
   "metadata": {},
   "outputs": [],
   "source": []
  },
  {
   "cell_type": "code",
   "execution_count": 3,
   "metadata": {},
   "outputs": [
    {
     "output_type": "stream",
     "name": "stdout",
     "text": [
      "Model: \"model\"\n_________________________________________________________________\nLayer (type)                 Output Shape              Param #   \n=================================================================\ninput_1 (InputLayer)         [(None, 2)]               0         \n_________________________________________________________________\ndense (Dense)                (None, 10)                30        \n_________________________________________________________________\ndense_1 (Dense)              (None, 1)                 11        \n=================================================================\nTotal params: 41\nTrainable params: 41\nNon-trainable params: 0\n_________________________________________________________________\n"
     ]
    }
   ],
   "source": [
    "import tensorflow as tf\n",
    "from tensorflow.keras.layers import Input, Dense\n",
    "from tensorflow.keras.models import Model\n",
    "\n",
    "inputs = Input(shape=(2,))    ## tạo một layer Input, mỗi sample có input là 1 vector độ dài 2\n",
    "dense_1 = Dense(units=10, activation='relu')(inputs)   ## tạo một layer gồm 10 units, hàm kích hoạt relu\n",
    "outputs = Dense(units=1, activation=None)(dense_1)   ## tạo layer output gồm 1 units, tượng trưng cho giá nhà, vì giá nhà thực nên không để hàm kích hoạt\n",
    "model = Model(inputs=inputs, outputs=outputs)    ## tạo model với input và output layer đã xây dựng\n",
    "\n",
    "model.compile(optimizer=tf.keras.optimizers.Adam(learning_rate=1000.0),\n",
    "             loss='mean_squared_error')      ## khai báo optimizer và loss cho model\n",
    "model.summary()           "
   ]
  },
  {
   "cell_type": "code",
   "execution_count": 4,
   "metadata": {},
   "outputs": [
    {
     "output_type": "stream",
     "name": "stdout",
     "text": [
      "Epoch 1/10\n",
      "2/2 [==============================] - 1s 304ms/step - loss: 44607966991264424.0000 - val_loss: 51748789639184384.0000\n",
      "Epoch 2/10\n",
      "2/2 [==============================] - 0s 43ms/step - loss: 36015910685420204.0000 - val_loss: 23872678066651136.0000\n",
      "Epoch 3/10\n",
      "2/2 [==============================] - 0s 43ms/step - loss: 14395239306712406.0000 - val_loss: 3139457347747840.0000\n",
      "Epoch 4/10\n",
      "2/2 [==============================] - 0s 39ms/step - loss: 2836218161135616.0000 - val_loss: 30006438973669376.0000\n",
      "Epoch 5/10\n",
      "2/2 [==============================] - 0s 37ms/step - loss: 14654462773690368.0000 - val_loss: 12855148502056960.0000\n",
      "Epoch 6/10\n",
      "2/2 [==============================] - 0s 42ms/step - loss: 6204963232765269.0000 - val_loss: 753625630507008.0000\n",
      "Epoch 7/10\n",
      "2/2 [==============================] - 0s 33ms/step - loss: 1866484204699648.0000 - val_loss: 4075362128494592.0000\n",
      "Epoch 8/10\n",
      "2/2 [==============================] - 0s 34ms/step - loss: 3908121291740501.5000 - val_loss: 6929394471796736.0000\n",
      "Epoch 9/10\n",
      "2/2 [==============================] - 0s 34ms/step - loss: 4408033025895082.5000 - val_loss: 4793687087251456.0000\n",
      "Epoch 10/10\n",
      "2/2 [==============================] - 0s 37ms/step - loss: 2570114603941888.0000 - val_loss: 1777494898245632.0000\n"
     ]
    },
    {
     "output_type": "execute_result",
     "data": {
      "text/plain": [
       "<tensorflow.python.keras.callbacks.History at 0x7f4d8c122430>"
      ]
     },
     "metadata": {},
     "execution_count": 4
    }
   ],
   "source": [
    "model.fit(X_train, y_train, validation_data=(X_test, y_test), epochs=10, batch_size=80)"
   ]
  },
  {
   "cell_type": "code",
   "execution_count": null,
   "metadata": {},
   "outputs": [],
   "source": []
  },
  {
   "cell_type": "markdown",
   "metadata": {},
   "source": [
    "## 2. Bài tập: COVID-19 Retweet Prediction\n",
    "\n",
    "Link: https://www.cikm2020.org/covid-19-retweet-prediction-challenge/\n",
    "\n",
    "Dự đoán số lượng retweet của một tweet dựa vào các metadata như số #friends, #followers, ... của người đăng, thời gian, hashtags của tweet.\n",
    "\n",
    "Download: https://drive.google.com/drive/folders/1eZwesVW9RcW_0ZJt0ztGyhTlISx3USn5?usp=sharing"
   ]
  },
  {
   "cell_type": "code",
   "execution_count": 5,
   "metadata": {},
   "outputs": [
    {
     "output_type": "execute_result",
     "data": {
      "text/plain": [
       "                        timestamp  #followers  #friends  #favorites  \\\n",
       "0  Sun Mar 29 07:40:34 +0000 2020           6       259           0   \n",
       "1  Sun Mar 22 12:06:15 +0000 2020        5133      5255           0   \n",
       "2  Sun Mar 15 20:01:23 +0000 2020      120323      4912           6   \n",
       "3  Wed Nov 13 19:31:39 +0000 2019           9       140           0   \n",
       "4  Mon Apr 27 14:31:02 +0000 2020       12121       568          28   \n",
       "\n",
       "                hashtags  sentiment_1  sentiment_2  #retweet  \n",
       "0                  null;            3           -1         0  \n",
       "1                  null;            3           -1         0  \n",
       "2                  null;            3           -2         5  \n",
       "3                  null;            1           -1         0  \n",
       "4  OpenMISafely: TrustMI            2           -1        10  "
      ],
      "text/html": "<div>\n<style scoped>\n    .dataframe tbody tr th:only-of-type {\n        vertical-align: middle;\n    }\n\n    .dataframe tbody tr th {\n        vertical-align: top;\n    }\n\n    .dataframe thead th {\n        text-align: right;\n    }\n</style>\n<table border=\"1\" class=\"dataframe\">\n  <thead>\n    <tr style=\"text-align: right;\">\n      <th></th>\n      <th>timestamp</th>\n      <th>#followers</th>\n      <th>#friends</th>\n      <th>#favorites</th>\n      <th>hashtags</th>\n      <th>sentiment_1</th>\n      <th>sentiment_2</th>\n      <th>#retweet</th>\n    </tr>\n  </thead>\n  <tbody>\n    <tr>\n      <th>0</th>\n      <td>Sun Mar 29 07:40:34 +0000 2020</td>\n      <td>6</td>\n      <td>259</td>\n      <td>0</td>\n      <td>null;</td>\n      <td>3</td>\n      <td>-1</td>\n      <td>0</td>\n    </tr>\n    <tr>\n      <th>1</th>\n      <td>Sun Mar 22 12:06:15 +0000 2020</td>\n      <td>5133</td>\n      <td>5255</td>\n      <td>0</td>\n      <td>null;</td>\n      <td>3</td>\n      <td>-1</td>\n      <td>0</td>\n    </tr>\n    <tr>\n      <th>2</th>\n      <td>Sun Mar 15 20:01:23 +0000 2020</td>\n      <td>120323</td>\n      <td>4912</td>\n      <td>6</td>\n      <td>null;</td>\n      <td>3</td>\n      <td>-2</td>\n      <td>5</td>\n    </tr>\n    <tr>\n      <th>3</th>\n      <td>Wed Nov 13 19:31:39 +0000 2019</td>\n      <td>9</td>\n      <td>140</td>\n      <td>0</td>\n      <td>null;</td>\n      <td>1</td>\n      <td>-1</td>\n      <td>0</td>\n    </tr>\n    <tr>\n      <th>4</th>\n      <td>Mon Apr 27 14:31:02 +0000 2020</td>\n      <td>12121</td>\n      <td>568</td>\n      <td>28</td>\n      <td>OpenMISafely: TrustMI</td>\n      <td>2</td>\n      <td>-1</td>\n      <td>10</td>\n    </tr>\n  </tbody>\n</table>\n</div>"
     },
     "metadata": {},
     "execution_count": 5
    }
   ],
   "source": [
    "df_train = pd.read_csv(\"df_train.csv\")\n",
    "df_train.head()"
   ]
  },
  {
   "cell_type": "markdown",
   "metadata": {},
   "source": [
    "## Bài tập\n",
    "Sử dụng một vài hoặt tất cả các cột trong số các cột timestamp, #followers, #friends, #favorites, hashtags, sentiment_1, sentiment_2 để dự đoán cột #retweet:\n",
    "- Dùng model machine learning bất kì (nên dùng neural network)\n",
    "- Đạt Mean Squared Logarithmic Error (https://www.tensorflow.org/api_docs/python/tf/keras/losses/MeanSquaredLogarithmicError) trên tập test ít nhất là 0.25 mới được đầy đủ điểm\n",
    "\n",
    "## Nộp bài\n",
    "- Code và chạy kết quả lưu vào file notebook NMMH_TH8_MSSV.ipynb (notebook phải có kết quả chạy nếu ko xem như chưa làm)\n",
    "- Nén thành file NMMH_TH8_MSSV.rar (.zip) và nộp về: dinhvietcuong1996@gmail.com\n",
    "- Deadline: 23g59 thứ 3 ngày 28/07/2020. Nộp trễ bị chia đôi số điểm."
   ]
  },
  {
   "cell_type": "code",
   "execution_count": null,
   "metadata": {},
   "outputs": [],
   "source": []
  },
  {
   "cell_type": "code",
   "execution_count": null,
   "metadata": {},
   "outputs": [],
   "source": []
  }
 ],
 "metadata": {
  "kernelspec": {
   "display_name": "Python 3",
   "language": "python",
   "name": "python3"
  },
  "language_info": {
   "codemirror_mode": {
    "name": "ipython",
    "version": 3
   },
   "file_extension": ".py",
   "mimetype": "text/x-python",
   "name": "python",
   "nbconvert_exporter": "python",
   "pygments_lexer": "ipython3",
   "version": "3.8.5"
  }
 },
 "nbformat": 4,
 "nbformat_minor": 4
}