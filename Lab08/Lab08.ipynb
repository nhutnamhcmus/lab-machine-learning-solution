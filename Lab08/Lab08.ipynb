{
 "cells": [
  {
   "cell_type": "markdown",
   "metadata": {},
   "source": [
    "# Bài 8: Keras, Regression\n",
    "\n",
    "Trong bài thực hành này, chúng ta sẽ \n",
    "- Làm quen với Tensorflow thông qua các bài toán Regression\n"
   ]
  },
  {
   "cell_type": "markdown",
   "metadata": {},
   "source": [
    "## 1. Dự đoán giá nhà (Lab 01)"
   ]
  },
  {
   "cell_type": "code",
   "execution_count": 1,
   "metadata": {},
   "outputs": [
    {
     "output_type": "execute_result",
     "data": {
      "text/plain": [
       "   width  length         price\n",
       "0     28      97  3.350184e+08\n",
       "1     21      62  2.298295e+08\n",
       "2     27      64  2.603552e+08\n",
       "3      5      92  2.064708e+08\n",
       "4     13      84  2.339808e+08"
      ],
      "text/html": "<div>\n<style scoped>\n    .dataframe tbody tr th:only-of-type {\n        vertical-align: middle;\n    }\n\n    .dataframe tbody tr th {\n        vertical-align: top;\n    }\n\n    .dataframe thead th {\n        text-align: right;\n    }\n</style>\n<table border=\"1\" class=\"dataframe\">\n  <thead>\n    <tr style=\"text-align: right;\">\n      <th></th>\n      <th>width</th>\n      <th>length</th>\n      <th>price</th>\n    </tr>\n  </thead>\n  <tbody>\n    <tr>\n      <th>0</th>\n      <td>28</td>\n      <td>97</td>\n      <td>3.350184e+08</td>\n    </tr>\n    <tr>\n      <th>1</th>\n      <td>21</td>\n      <td>62</td>\n      <td>2.298295e+08</td>\n    </tr>\n    <tr>\n      <th>2</th>\n      <td>27</td>\n      <td>64</td>\n      <td>2.603552e+08</td>\n    </tr>\n    <tr>\n      <th>3</th>\n      <td>5</td>\n      <td>92</td>\n      <td>2.064708e+08</td>\n    </tr>\n    <tr>\n      <th>4</th>\n      <td>13</td>\n      <td>84</td>\n      <td>2.339808e+08</td>\n    </tr>\n  </tbody>\n</table>\n</div>"
     },
     "metadata": {},
     "execution_count": 1
    }
   ],
   "source": [
    "import pandas as pd\n",
    "import numpy as np\n",
    "df = pd.read_csv(\"House_Price.csv\")   \n",
    "df.head()"
   ]
  },
  {
   "cell_type": "code",
   "execution_count": 2,
   "metadata": {},
   "outputs": [
    {
     "output_type": "execute_result",
     "data": {
      "text/plain": [
       "        count          mean           std           min           25%  \\\n",
       "width   100.0  1.691000e+01  7.254528e+00  5.000000e+00  1.100000e+01   \n",
       "length  100.0  5.977000e+01  2.278483e+01  2.000000e+01  3.900000e+01   \n",
       "price   100.0  2.046623e+08  6.439491e+07  7.257961e+07  1.583727e+08   \n",
       "\n",
       "                 50%           75%           max  \n",
       "width   1.600000e+01  2.300000e+01  2.900000e+01  \n",
       "length  6.050000e+01  7.900000e+01  9.700000e+01  \n",
       "price   1.951909e+08  2.513378e+08  3.377315e+08  "
      ],
      "text/html": "<div>\n<style scoped>\n    .dataframe tbody tr th:only-of-type {\n        vertical-align: middle;\n    }\n\n    .dataframe tbody tr th {\n        vertical-align: top;\n    }\n\n    .dataframe thead th {\n        text-align: right;\n    }\n</style>\n<table border=\"1\" class=\"dataframe\">\n  <thead>\n    <tr style=\"text-align: right;\">\n      <th></th>\n      <th>count</th>\n      <th>mean</th>\n      <th>std</th>\n      <th>min</th>\n      <th>25%</th>\n      <th>50%</th>\n      <th>75%</th>\n      <th>max</th>\n    </tr>\n  </thead>\n  <tbody>\n    <tr>\n      <th>width</th>\n      <td>100.0</td>\n      <td>1.691000e+01</td>\n      <td>7.254528e+00</td>\n      <td>5.000000e+00</td>\n      <td>1.100000e+01</td>\n      <td>1.600000e+01</td>\n      <td>2.300000e+01</td>\n      <td>2.900000e+01</td>\n    </tr>\n    <tr>\n      <th>length</th>\n      <td>100.0</td>\n      <td>5.977000e+01</td>\n      <td>2.278483e+01</td>\n      <td>2.000000e+01</td>\n      <td>3.900000e+01</td>\n      <td>6.050000e+01</td>\n      <td>7.900000e+01</td>\n      <td>9.700000e+01</td>\n    </tr>\n    <tr>\n      <th>price</th>\n      <td>100.0</td>\n      <td>2.046623e+08</td>\n      <td>6.439491e+07</td>\n      <td>7.257961e+07</td>\n      <td>1.583727e+08</td>\n      <td>1.951909e+08</td>\n      <td>2.513378e+08</td>\n      <td>3.377315e+08</td>\n    </tr>\n  </tbody>\n</table>\n</div>"
     },
     "metadata": {},
     "execution_count": 2
    }
   ],
   "source": [
    "df.describe().transpose()"
   ]
  },
  {
   "cell_type": "code",
   "execution_count": 3,
   "metadata": {},
   "outputs": [],
   "source": [
    "from sklearn.model_selection import train_test_split\n",
    "df_train, df_test = train_test_split(df, test_size=0.1)\n",
    "\n",
    "## dùng width và length để đoán price\n",
    "X_train = df_train[['width', 'length']].values    \n",
    "X_test = df_test[['width', 'length']].values\n",
    "\n",
    "X_means = np.mean(X_train, axis=0)\n",
    "X_stds = np.std(X_train, axis=0)\n",
    "X_train = (X_train - X_means)/X_stds\n",
    "X_test = (X_test - X_means)/X_stds\n",
    "\n",
    "y_train = df_train['price'].values\n",
    "y_test = df_test['price'].values\n",
    "\n",
    "y_means = np.mean(y_train, axis=0)\n",
    "y_stds = np.std(y_train, axis=0)\n"
   ]
  },
  {
   "cell_type": "code",
   "execution_count": 4,
   "metadata": {},
   "outputs": [
    {
     "output_type": "execute_result",
     "data": {
      "text/plain": [
       "((90, 2), (90,))"
      ]
     },
     "metadata": {},
     "execution_count": 4
    }
   ],
   "source": [
    "X_train.shape, y_train.shape"
   ]
  },
  {
   "cell_type": "code",
   "execution_count": 5,
   "metadata": {},
   "outputs": [
    {
     "output_type": "execute_result",
     "data": {
      "text/plain": [
       "((10, 2), (10,))"
      ]
     },
     "metadata": {},
     "execution_count": 5
    }
   ],
   "source": [
    "X_test.shape, y_test.shape"
   ]
  },
  {
   "cell_type": "code",
   "execution_count": 6,
   "metadata": {},
   "outputs": [
    {
     "output_type": "stream",
     "name": "stdout",
     "text": [
      "Model: \"model\"\n_________________________________________________________________\nLayer (type)                 Output Shape              Param #   \n=================================================================\ninput_1 (InputLayer)         [(None, 2)]               0         \n_________________________________________________________________\ndense (Dense)                (None, 10)                30        \n_________________________________________________________________\ndense_1 (Dense)              (None, 1)                 11        \n=================================================================\nTotal params: 41\nTrainable params: 41\nNon-trainable params: 0\n_________________________________________________________________\n"
     ]
    }
   ],
   "source": [
    "import tensorflow as tf\n",
    "from tensorflow.keras.layers import Input, Dense\n",
    "from tensorflow.keras.models import Model\n",
    "\n",
    "inputs = Input(shape=(2,))    ## tạo một layer Input, mỗi sample có input là 1 vector độ dài 2\n",
    "dense_1 = Dense(units=10, activation='relu')(inputs)   ## tạo một layer gồm 10 units, hàm kích hoạt relu\n",
    "outputs = Dense(units=1, activation=None)(dense_1)   ## tạo layer output gồm 1 units, tượng trưng cho giá nhà, vì giá nhà thực nên không để hàm kích hoạt\n",
    "model = Model(inputs=inputs, outputs=outputs)    ## tạo model với input và output layer đã xây dựng\n",
    "\n",
    "model.compile(optimizer=tf.keras.optimizers.Adam(learning_rate=1000.0),\n",
    "             loss='mean_squared_error')      ## khai báo optimizer và loss cho model\n",
    "model.summary()           "
   ]
  },
  {
   "cell_type": "code",
   "execution_count": 7,
   "metadata": {},
   "outputs": [
    {
     "output_type": "stream",
     "name": "stdout",
     "text": [
      "Epoch 1/10\n",
      "2/2 [==============================] - 0s 267ms/step - loss: 46462536732988760.0000 - val_loss: 35397346632138752.0000\n",
      "Epoch 2/10\n",
      "2/2 [==============================] - 0s 27ms/step - loss: 37800690071896064.0000 - val_loss: 18390989831929856.0000\n",
      "Epoch 3/10\n",
      "2/2 [==============================] - 0s 28ms/step - loss: 18207762232115200.0000 - val_loss: 5935564809306112.0000\n",
      "Epoch 4/10\n",
      "2/2 [==============================] - 0s 29ms/step - loss: 6220009219031040.0000 - val_loss: 8250068461158400.0000\n",
      "Epoch 5/10\n",
      "2/2 [==============================] - 0s 29ms/step - loss: 10220702177864362.0000 - val_loss: 2607015889207296.0000\n",
      "Epoch 6/10\n",
      "2/2 [==============================] - 0s 27ms/step - loss: 3402057285369856.0000 - val_loss: 1521624503287808.0000\n",
      "Epoch 7/10\n",
      "2/2 [==============================] - 0s 28ms/step - loss: 2112637951978154.7500 - val_loss: 4143187983597568.0000\n",
      "Epoch 8/10\n",
      "2/2 [==============================] - 0s 36ms/step - loss: 5392076068530859.0000 - val_loss: 3938641239867392.0000\n",
      "Epoch 9/10\n",
      "2/2 [==============================] - 0s 28ms/step - loss: 5016933939631445.0000 - val_loss: 2281027334569984.0000\n",
      "Epoch 10/10\n",
      "2/2 [==============================] - 0s 28ms/step - loss: 2512864211020458.5000 - val_loss: 1845443294134272.0000\n"
     ]
    },
    {
     "output_type": "execute_result",
     "data": {
      "text/plain": [
       "<tensorflow.python.keras.callbacks.History at 0x7fdbd044f430>"
      ]
     },
     "metadata": {},
     "execution_count": 7
    }
   ],
   "source": [
    "model.fit(X_train, y_train, validation_data=(X_test, y_test), epochs=10, batch_size=80)"
   ]
  },
  {
   "cell_type": "code",
   "execution_count": 8,
   "metadata": {},
   "outputs": [
    {
     "output_type": "stream",
     "name": "stdout",
     "text": [
      "RMSE:  32528771.908200335\nR2:  0.7462894629206037\n"
     ]
    }
   ],
   "source": [
    "from sklearn.metrics import mean_absolute_error, mean_squared_error, explained_variance_score, r2_score, accuracy_score\n",
    "\n",
    "y_train_pred = model.predict(X_train)\n",
    "\n",
    "rmse = np.sqrt(mean_squared_error(y_train,y_train_pred))\n",
    "\n",
    "r2 = r2_score(y_train,y_train_pred)\n",
    "\n",
    "print('RMSE: ', rmse)\n",
    "print('R2: ', r2)"
   ]
  },
  {
   "cell_type": "code",
   "execution_count": 9,
   "metadata": {},
   "outputs": [
    {
     "output_type": "stream",
     "name": "stdout",
     "text": [
      "Model testing performance:\n--------------------------\nMean Absolute Error is 37190682.4\nRMSE is 42958619.29181918\nR2 score is 0.4690653190756422\nVariance explained by model 53.30361 %\n"
     ]
    }
   ],
   "source": [
    "y_pred = model.predict(X_test)\n",
    "mae = mean_absolute_error(y_test, y_pred)\n",
    "mse = mean_squared_error(y_test, y_pred)\n",
    "rmse = (np.sqrt(mse))\n",
    "mv = explained_variance_score(y_test, y_pred)\n",
    "r2 = r2_score(y_test, y_pred)\n",
    "\n",
    "print(\"Model testing performance:\")\n",
    "print(\"--------------------------\")\n",
    "print(\"Mean Absolute Error is\", round(mae,1))\n",
    "print('RMSE is {}'.format(rmse))\n",
    "print('R2 score is {}'.format(r2))\n",
    "print(\"Variance explained by model\", round(mv*100,5), \"%\")"
   ]
  },
  {
   "cell_type": "markdown",
   "metadata": {},
   "source": [
    "## 2. Bài tập: COVID-19 Retweet Prediction\n",
    "\n",
    "Link: https://www.cikm2020.org/covid-19-retweet-prediction-challenge/\n",
    "\n",
    "Dự đoán số lượng retweet của một tweet dựa vào các metadata như số #friends, #followers, ... của người đăng, thời gian, hashtags của tweet.\n",
    "\n",
    "Download: https://drive.google.com/drive/folders/1eZwesVW9RcW_0ZJt0ztGyhTlISx3USn5?usp=sharing"
   ]
  },
  {
   "cell_type": "code",
   "execution_count": 10,
   "metadata": {},
   "outputs": [
    {
     "output_type": "execute_result",
     "data": {
      "text/plain": [
       "                        timestamp  #followers  #friends  #favorites  \\\n",
       "0  Sun Mar 29 07:40:34 +0000 2020           6       259           0   \n",
       "1  Sun Mar 22 12:06:15 +0000 2020        5133      5255           0   \n",
       "2  Sun Mar 15 20:01:23 +0000 2020      120323      4912           6   \n",
       "3  Wed Nov 13 19:31:39 +0000 2019           9       140           0   \n",
       "4  Mon Apr 27 14:31:02 +0000 2020       12121       568          28   \n",
       "\n",
       "                hashtags  sentiment_1  sentiment_2  #retweet  \n",
       "0                  null;            3           -1         0  \n",
       "1                  null;            3           -1         0  \n",
       "2                  null;            3           -2         5  \n",
       "3                  null;            1           -1         0  \n",
       "4  OpenMISafely: TrustMI            2           -1        10  "
      ],
      "text/html": "<div>\n<style scoped>\n    .dataframe tbody tr th:only-of-type {\n        vertical-align: middle;\n    }\n\n    .dataframe tbody tr th {\n        vertical-align: top;\n    }\n\n    .dataframe thead th {\n        text-align: right;\n    }\n</style>\n<table border=\"1\" class=\"dataframe\">\n  <thead>\n    <tr style=\"text-align: right;\">\n      <th></th>\n      <th>timestamp</th>\n      <th>#followers</th>\n      <th>#friends</th>\n      <th>#favorites</th>\n      <th>hashtags</th>\n      <th>sentiment_1</th>\n      <th>sentiment_2</th>\n      <th>#retweet</th>\n    </tr>\n  </thead>\n  <tbody>\n    <tr>\n      <th>0</th>\n      <td>Sun Mar 29 07:40:34 +0000 2020</td>\n      <td>6</td>\n      <td>259</td>\n      <td>0</td>\n      <td>null;</td>\n      <td>3</td>\n      <td>-1</td>\n      <td>0</td>\n    </tr>\n    <tr>\n      <th>1</th>\n      <td>Sun Mar 22 12:06:15 +0000 2020</td>\n      <td>5133</td>\n      <td>5255</td>\n      <td>0</td>\n      <td>null;</td>\n      <td>3</td>\n      <td>-1</td>\n      <td>0</td>\n    </tr>\n    <tr>\n      <th>2</th>\n      <td>Sun Mar 15 20:01:23 +0000 2020</td>\n      <td>120323</td>\n      <td>4912</td>\n      <td>6</td>\n      <td>null;</td>\n      <td>3</td>\n      <td>-2</td>\n      <td>5</td>\n    </tr>\n    <tr>\n      <th>3</th>\n      <td>Wed Nov 13 19:31:39 +0000 2019</td>\n      <td>9</td>\n      <td>140</td>\n      <td>0</td>\n      <td>null;</td>\n      <td>1</td>\n      <td>-1</td>\n      <td>0</td>\n    </tr>\n    <tr>\n      <th>4</th>\n      <td>Mon Apr 27 14:31:02 +0000 2020</td>\n      <td>12121</td>\n      <td>568</td>\n      <td>28</td>\n      <td>OpenMISafely: TrustMI</td>\n      <td>2</td>\n      <td>-1</td>\n      <td>10</td>\n    </tr>\n  </tbody>\n</table>\n</div>"
     },
     "metadata": {},
     "execution_count": 10
    }
   ],
   "source": [
    "df_train = pd.read_csv(\"df_train.csv\")\n",
    "df_train.head()"
   ]
  },
  {
   "cell_type": "code",
   "execution_count": 11,
   "metadata": {},
   "outputs": [
    {
     "output_type": "execute_result",
     "data": {
      "text/plain": [
       "timestamp         0\n",
       "#followers        0\n",
       "#friends          0\n",
       "#favorites        0\n",
       "hashtags       3166\n",
       "sentiment_1       0\n",
       "sentiment_2       0\n",
       "#retweet          0\n",
       "dtype: int64"
      ]
     },
     "metadata": {},
     "execution_count": 11
    }
   ],
   "source": [
    "df_train.isnull().sum()"
   ]
  },
  {
   "cell_type": "code",
   "execution_count": 12,
   "metadata": {},
   "outputs": [
    {
     "output_type": "execute_result",
     "data": {
      "text/plain": [
       "                        timestamp  #followers  #friends  #favorites  hashtags  \\\n",
       "0  Sat Apr 18 16:48:10 +0000 2020        4922      2945           0     null;   \n",
       "1  Thu Mar 19 17:04:47 +0000 2020         749       262           0     null;   \n",
       "2  Fri Mar 13 19:22:16 +0000 2020      592046     15755         215  COVIDー19   \n",
       "3  Tue Apr 07 17:23:43 +0000 2020         130       116           0     null;   \n",
       "4  Sun Jan 19 11:41:23 +0000 2020         360        70           0     null;   \n",
       "\n",
       "   sentiment_1  sentiment_2  #retweet  \n",
       "0            1           -1         0  \n",
       "1            1           -1         0  \n",
       "2            1           -3        59  \n",
       "3            1           -3         0  \n",
       "4            2           -1         0  "
      ],
      "text/html": "<div>\n<style scoped>\n    .dataframe tbody tr th:only-of-type {\n        vertical-align: middle;\n    }\n\n    .dataframe tbody tr th {\n        vertical-align: top;\n    }\n\n    .dataframe thead th {\n        text-align: right;\n    }\n</style>\n<table border=\"1\" class=\"dataframe\">\n  <thead>\n    <tr style=\"text-align: right;\">\n      <th></th>\n      <th>timestamp</th>\n      <th>#followers</th>\n      <th>#friends</th>\n      <th>#favorites</th>\n      <th>hashtags</th>\n      <th>sentiment_1</th>\n      <th>sentiment_2</th>\n      <th>#retweet</th>\n    </tr>\n  </thead>\n  <tbody>\n    <tr>\n      <th>0</th>\n      <td>Sat Apr 18 16:48:10 +0000 2020</td>\n      <td>4922</td>\n      <td>2945</td>\n      <td>0</td>\n      <td>null;</td>\n      <td>1</td>\n      <td>-1</td>\n      <td>0</td>\n    </tr>\n    <tr>\n      <th>1</th>\n      <td>Thu Mar 19 17:04:47 +0000 2020</td>\n      <td>749</td>\n      <td>262</td>\n      <td>0</td>\n      <td>null;</td>\n      <td>1</td>\n      <td>-1</td>\n      <td>0</td>\n    </tr>\n    <tr>\n      <th>2</th>\n      <td>Fri Mar 13 19:22:16 +0000 2020</td>\n      <td>592046</td>\n      <td>15755</td>\n      <td>215</td>\n      <td>COVIDー19</td>\n      <td>1</td>\n      <td>-3</td>\n      <td>59</td>\n    </tr>\n    <tr>\n      <th>3</th>\n      <td>Tue Apr 07 17:23:43 +0000 2020</td>\n      <td>130</td>\n      <td>116</td>\n      <td>0</td>\n      <td>null;</td>\n      <td>1</td>\n      <td>-3</td>\n      <td>0</td>\n    </tr>\n    <tr>\n      <th>4</th>\n      <td>Sun Jan 19 11:41:23 +0000 2020</td>\n      <td>360</td>\n      <td>70</td>\n      <td>0</td>\n      <td>null;</td>\n      <td>2</td>\n      <td>-1</td>\n      <td>0</td>\n    </tr>\n  </tbody>\n</table>\n</div>"
     },
     "metadata": {},
     "execution_count": 12
    }
   ],
   "source": [
    "df_test = pd.read_csv(\"df_test.csv\")\n",
    "df_test.head()"
   ]
  },
  {
   "cell_type": "code",
   "execution_count": 13,
   "metadata": {},
   "outputs": [
    {
     "output_type": "execute_result",
     "data": {
      "text/plain": [
       "timestamp        0\n",
       "#followers       0\n",
       "#friends         0\n",
       "#favorites       0\n",
       "hashtags       324\n",
       "sentiment_1      0\n",
       "sentiment_2      0\n",
       "#retweet         0\n",
       "dtype: int64"
      ]
     },
     "metadata": {},
     "execution_count": 13
    }
   ],
   "source": [
    "df_test.isnull().sum()"
   ]
  },
  {
   "cell_type": "code",
   "execution_count": 14,
   "metadata": {},
   "outputs": [],
   "source": [
    "df_train = df_train.dropna()"
   ]
  },
  {
   "cell_type": "code",
   "execution_count": 15,
   "metadata": {},
   "outputs": [
    {
     "output_type": "stream",
     "name": "stdout",
     "text": [
      "<class 'pandas.core.frame.DataFrame'>\nInt64Index: 7333205 entries, 0 to 7336370\nData columns (total 8 columns):\n #   Column       Dtype \n---  ------       ----- \n 0   timestamp    object\n 1   #followers   int64 \n 2   #friends     int64 \n 3   #favorites   int64 \n 4   hashtags     object\n 5   sentiment_1  int64 \n 6   sentiment_2  int64 \n 7   #retweet     int64 \ndtypes: int64(6), object(2)\nmemory usage: 503.5+ MB\n"
     ]
    }
   ],
   "source": [
    "df_train.info()"
   ]
  },
  {
   "cell_type": "code",
   "execution_count": 16,
   "metadata": {},
   "outputs": [],
   "source": [
    "df_test = df_test.dropna()"
   ]
  },
  {
   "cell_type": "code",
   "execution_count": 17,
   "metadata": {},
   "outputs": [
    {
     "output_type": "stream",
     "name": "stdout",
     "text": [
      "<class 'pandas.core.frame.DataFrame'>\nInt64Index: 814829 entries, 0 to 815152\nData columns (total 8 columns):\n #   Column       Non-Null Count   Dtype \n---  ------       --------------   ----- \n 0   timestamp    814829 non-null  object\n 1   #followers   814829 non-null  int64 \n 2   #friends     814829 non-null  int64 \n 3   #favorites   814829 non-null  int64 \n 4   hashtags     814829 non-null  object\n 5   sentiment_1  814829 non-null  int64 \n 6   sentiment_2  814829 non-null  int64 \n 7   #retweet     814829 non-null  int64 \ndtypes: int64(6), object(2)\nmemory usage: 55.9+ MB\n"
     ]
    }
   ],
   "source": [
    "df_test.info()"
   ]
  },
  {
   "cell_type": "markdown",
   "metadata": {},
   "source": [
    "## Bài tập\n",
    "Sử dụng một vài hoặt tất cả các cột trong số các cột timestamp, #followers, #friends, #favorites, hashtags, sentiment_1, sentiment_2 để dự đoán cột #retweet:\n",
    "- Dùng model machine learning bất kì (nên dùng neural network)\n",
    "- Đạt Mean Squared Logarithmic Error (https://www.tensorflow.org/api_docs/python/tf/keras/losses/MeanSquaredLogarithmicError) trên tập test ít nhất là 0.25 mới được đầy đủ điểm\n",
    "\n",
    "## Nộp bài\n",
    "- Code và chạy kết quả lưu vào file notebook NMMH_TH8_MSSV.ipynb (notebook phải có kết quả chạy nếu ko xem như chưa làm)\n",
    "- Nén thành file NMMH_TH8_MSSV.rar (.zip) và nộp về: dinhvietcuong1996@gmail.com\n",
    "- Deadline: 23g59 thứ 3 ngày 28/07/2020. Nộp trễ bị chia đôi số điểm."
   ]
  },
  {
   "cell_type": "code",
   "execution_count": null,
   "metadata": {},
   "outputs": [],
   "source": []
  },
  {
   "cell_type": "code",
   "execution_count": null,
   "metadata": {},
   "outputs": [],
   "source": []
  }
 ],
 "metadata": {
  "kernelspec": {
   "display_name": "Python 3",
   "language": "python",
   "name": "python3"
  },
  "language_info": {
   "codemirror_mode": {
    "name": "ipython",
    "version": 3
   },
   "file_extension": ".py",
   "mimetype": "text/x-python",
   "name": "python",
   "nbconvert_exporter": "python",
   "pygments_lexer": "ipython3",
   "version": "3.8.5"
  }
 },
 "nbformat": 4,
 "nbformat_minor": 4
}