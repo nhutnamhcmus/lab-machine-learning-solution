{
 "cells": [
  {
   "cell_type": "markdown",
   "metadata": {},
   "source": [
    "# Lab 05: K-Mean Clustering\n",
    "## Sklearn"
   ]
  },
  {
   "cell_type": "code",
   "execution_count": null,
   "metadata": {},
   "outputs": [],
   "source": [
    "## data\n",
    "import pandas as pd\n",
    "import numpy as np\n",
    "data = pd.read_csv(\"data.csv\")\n",
    "X = data[[\"x1\", \"x2\"]].values\n",
    "\n",
    "import matplotlib.pyplot as plt\n",
    "plt.scatter(X[:,0], X[:,1])"
   ]
  },
  {
   "cell_type": "code",
   "execution_count": null,
   "metadata": {},
   "outputs": [],
   "source": [
    "from sklearn.cluster import KMeans\n",
    "kmean = KMeans(n_clusters=3).fit(X)\n",
    "clusters = kmean.predict(X)\n",
    "for ii in range(3):\n",
    "    plt.scatter(X[:,0][clusters==ii], X[:,1][clusters==ii])\n",
    "print(\"Sum of squared distances of samples to their closest cluster center: \", kmean.inertia_)"
   ]
  },
  {
   "cell_type": "markdown",
   "metadata": {},
   "source": [
    "## Bài tập\n",
    "- Hãy cài đặt lại KMeans Cluster Algorithm mô tả trong Lec05_Unsupervised_KMeans, slide 14 của thầy. Chủ yếu dùng numpy để tính toán nhé.\n",
    "- Hãy lưu lại tổng within-cluster-variation của mọi clusters sau mỗi vòng lặp để vẽ hình\n",
    "\n",
    "Kết quả cuối cùng tương tự như:\n",
    "\n",
    "<img src=\"fig.jpg\" width=\"50%\" height=\"50%\">\n",
    "\n",
    "## Nộp bài\n",
    "- Code và chạy kết quả lưu vào file notebook NMMH_TH5_MSSV.ipynb (notebook phải có kết quả chạy nếu ko xem như chưa làm)\n",
    "- Nén thành file NMMH_TH5_MSSV.rar (.zip) và nộp về: dinhvietcuong1996@gmail.com\n",
    "- Deadline: 11g59 thứ 4 ngày 24/06/2020. Nộp trễ bị chia đôi số điểm."
   ]
  },
  {
   "cell_type": "code",
   "execution_count": null,
   "metadata": {},
   "outputs": [],
   "source": []
  }
 ],
 "metadata": {
  "kernelspec": {
   "display_name": "Python 3",
   "language": "python",
   "name": "python3"
  },
  "language_info": {
   "codemirror_mode": {
    "name": "ipython",
    "version": 3
   },
   "file_extension": ".py",
   "mimetype": "text/x-python",
   "name": "python",
   "nbconvert_exporter": "python",
   "pygments_lexer": "ipython3",
   "version": "3.6.8"
  }
 },
 "nbformat": 4,
 "nbformat_minor": 4
}
