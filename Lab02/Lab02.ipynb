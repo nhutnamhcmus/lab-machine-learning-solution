{
 "cells": [
  {
   "cell_type": "markdown",
   "metadata": {},
   "source": [
    "# Bài 2: Gradient Descent và Linear Regression\n",
    "\n",
    "Trong bài thực hành này, chúng ta sẽ \n",
    "- giải linear regression bằng Gradient Descent\n"
   ]
  },
  {
   "cell_type": "markdown",
   "metadata": {},
   "source": [
    "## 1. Gradient Descent"
   ]
  },
  {
   "cell_type": "code",
   "execution_count": null,
   "metadata": {},
   "outputs": [],
   "source": [
    "import pandas as pd\n",
    "df = pd.read_csv(\"House_Price.csv\")        ## load file csv vào pd.DataFrame"
   ]
  },
  {
   "cell_type": "code",
   "execution_count": null,
   "metadata": {},
   "outputs": [],
   "source": [
    "df                 ## xem thử DataFrame"
   ]
  },
  {
   "cell_type": "code",
   "execution_count": null,
   "metadata": {},
   "outputs": [],
   "source": [
    "## vẽ hình\n",
    "import matplotlib.pyplot as plt\n",
    "plt.scatter(df[\"Size in feet squared\"], df[\"Price in thousand dollar\"])\n",
    "plt.xlabel(\"Size in feet squared\")\n",
    "plt.ylabel(\"Price in thousand dollar\")"
   ]
  },
  {
   "cell_type": "markdown",
   "metadata": {},
   "source": [
    "Bây giờ chúng ta muốn làm một bài toán dựa vào kích thước của ngôi nhà, đoán giá tiền\n",
    "\n",
    "- $X$ = diện tích ngôi nhà\n",
    "\n",
    "- $y$ = giá tiền (chưa biết, muốn dự đoán)\n",
    "\n",
    "Ta giả thiết $\\hat{y} = aX + b$  với $a$ và $b$ là số thực\n",
    "\n",
    "Ta tìm $a$ và $b$ sao cho trung bình bình phương sai số nhỏ nhất khi đoán, tức là tìm $a$ và $b$ sao cho\n",
    "\n",
    "$$ L = \\frac{1}{n} \\sum (y-\\hat{y})^2 =  \\frac{1}{n} \\sum (y - aX - b)^2 $$\n",
    "\n",
    "đạt giá trị nhỏ nhất, với $n$ là số mẫu.\n",
    "\n",
    "Đặt $\\lambda$ là learning rate, giá trị $a$ và $b$ sẽ được cập nhật theo công thức:\n",
    "\n",
    " - $a = a - \\lambda \\frac{\\partial L}{\\partial a} = a - \\lambda \\frac{\\partial}{\\partial a} \\left( \\frac{1}{n} \\sum (y - aX - b)^2 \\right)\n",
    "= a - 2 \\lambda  \\frac{1}{n} \\sum (y - aX - b) (-X) $\n",
    "\n",
    "- $b = b - \\lambda \\frac{\\partial L}{\\partial b} = b - \\lambda \\frac{1}{n} \\frac{\\partial}{\\partial b} \\left( \\sum (y - aX - b)^2 \\right)\n",
    "= b - 2 \\lambda  \\frac{1}{n} \\sum (y - aX - b) (-1) $\n",
    "\n",
    "Với $X$, $y$ là các ma trận với mỗi hàng là một sample. Tức là trong bài toán này, mỗi hàng của $X$ là diện tích của một căn nhà, tương ứng hàng của $y$ là giá của nhà đó.\n",
    "Khi đó bài toán Linear Regression có thể code thành\n",
    "```python\n",
    "a = a - lmda * 2 *np.mean((y-a*X-b)*(-X))\n",
    "a = a - lmda * 2 *np.mean((y-a*X-b)*(-1))\n",
    "```\n",
    "\n",
    "Cụ thể, bài toán được lập trình như sau"
   ]
  },
  {
   "cell_type": "code",
   "execution_count": null,
   "metadata": {},
   "outputs": [],
   "source": [
    "X = df['Size in feet squared'].values   \n",
    "X = X.reshape(-1, 1)                   \n",
    "y = df['Price in thousand dollar'].values \n",
    "y = y.reshape(-1,1)\n"
   ]
  },
  {
   "cell_type": "code",
   "execution_count": null,
   "metadata": {},
   "outputs": [],
   "source": [
    "import numpy as np\n",
    "\n",
    "a, b = 1.0, 100.0           ## khởi tạo a, b\n",
    "\n",
    "n_iter = 10000           ## số vòng lặp cập nhật a, b\n",
    "lmda = 0.0000001          ## learning rate\n",
    "for ii in range(n_iter):\n",
    "    error = y - a*X-b\n",
    "    a = a - 2* lmda * np.mean(error*(-X))    ##cập nhật a và b\n",
    "    b = b - 2* lmda * np.mean(error*(-1))\n",
    "    if ii % 1000 == 0:\n",
    "        loss = np.mean(np.square(y - a*X-b))\n",
    "        print(\"Loss at iter {}: {}\".format(ii, loss))\n",
    "loss = np.mean(np.square(y - a*X-b))\n",
    "print(\"Final loss: \", loss)"
   ]
  },
  {
   "cell_type": "code",
   "execution_count": null,
   "metadata": {},
   "outputs": [],
   "source": [
    "error.shape, X.shape"
   ]
  },
  {
   "cell_type": "code",
   "execution_count": null,
   "metadata": {},
   "outputs": [],
   "source": [
    "## vẽ hình\n",
    "import matplotlib.pyplot as plt\n",
    "plt.scatter(df[\"Size in feet squared\"], df[\"Price in thousand dollar\"])\n",
    "plt.plot(np.arange(500, 3000), a*np.arange(500, 3000) + b)   ## vẽ solution tìm được\n",
    "plt.xlabel(\"Size in feet squared\")\n",
    "plt.ylabel(\"Price in thousand dollar\")"
   ]
  },
  {
   "cell_type": "code",
   "execution_count": null,
   "metadata": {},
   "outputs": [],
   "source": [
    "g_a, g_b = a, b"
   ]
  },
  {
   "cell_type": "markdown",
   "metadata": {},
   "source": [
    "### Viết gọn hơn xíu"
   ]
  },
  {
   "cell_type": "markdown",
   "metadata": {},
   "source": [
    "Cho $X$ là vector cột, $Z = (X, 1)$ là ma trận với 2 cột là $X$ và 1, khi đó $\\hat{y} = aX + b =  Z \\theta$ với $\\theta = (a,b)^T$. Bài toán chuyển thành tìm $\\theta$ sao cho\n",
    "\n",
    "   $$ L = \\frac{1}{n} ( y - Z \\theta )^T ( y - Z \\theta )$$\n",
    "    \n",
    "nhỏ nhất. Khi đó\n",
    "$$ \\frac{\\partial L}{\\partial \\theta} = \\frac{2}{n} (-Z)^T (y-Z \\theta)\n",
    "$$"
   ]
  },
  {
   "cell_type": "code",
   "execution_count": null,
   "metadata": {},
   "outputs": [],
   "source": [
    "X = df['Size in feet squared'].values   \n",
    "X = X.reshape(-1, 1)                   \n",
    "y = df['Price in thousand dollar'].values \n",
    "y = y.reshape(-1,1)\n"
   ]
  },
  {
   "cell_type": "code",
   "execution_count": null,
   "metadata": {},
   "outputs": [],
   "source": [
    "import numpy as np\n",
    "Z = np.concatenate([X, np.ones((X.shape[0],1))], axis=-1) ## thêm một cột toàn số 1"
   ]
  },
  {
   "cell_type": "code",
   "execution_count": null,
   "metadata": {},
   "outputs": [],
   "source": [
    "theta = np.asarray([[1.0], [100.0]])     ## khởi tạo theta\n",
    "\n",
    "n_iter = 10000           ## số vòng lặp cập nhật theta\n",
    "lmda = 0.0000001          ## learning rate\n",
    "for ii in range(n_iter):\n",
    "    error = y - np.matmul(Z, theta)\n",
    "    theta =  theta - 2/Z.shape[0]*lmda*np.matmul(-Z.T, error)   ##cập nhật theta\n",
    "    if ii % 1000 == 0:\n",
    "        loss = np.mean(np.square(y - np.matmul(Z, theta)))\n",
    "        print(\"Loss at iter {}: {}\".format(ii, loss))\n",
    "loss = np.mean(np.square(y - np.matmul(Z,theta))\n",
    "print(\"Final loss: \", loss)\n",
    "print(\"Final theta: \", theta)"
   ]
  },
  {
   "cell_type": "markdown",
   "metadata": {},
   "source": [
    "### 1.1 So sánh với exact solution và Sklearn"
   ]
  },
  {
   "cell_type": "code",
   "execution_count": null,
   "metadata": {},
   "outputs": [],
   "source": [
    "\n",
    "## exact solution\n",
    "import numpy as np\n",
    "Z = np.concatenate([X, np.ones((100,1))], axis=-1)   \n",
    "Z = Z.astype(np.float64)       \n",
    "\n",
    "## giá trị a và b tìm được\n",
    "T = np.matmul(np.matmul(np.linalg.inv(np.matmul(Z.T,Z)), Z.T), y)\n",
    "e_a, e_b = T[0][0], T[1][0]\n",
    "print(e_a, e_b)"
   ]
  },
  {
   "cell_type": "code",
   "execution_count": null,
   "metadata": {},
   "outputs": [],
   "source": [
    "## SkLearn\n",
    "\n",
    "from sklearn.linear_model import LinearRegression\n",
    "lr = LinearRegression().fit(X, y)                ## train LinearRegression \n",
    "sk_a, sk_b = lr.coef_[0][0], lr.intercept_[0]    ## lấy các tham số học được\n",
    "print(\"a = {}, b = {}\".format(sk_a, sk_b))"
   ]
  },
  {
   "cell_type": "code",
   "execution_count": null,
   "metadata": {},
   "outputs": [],
   "source": [
    "print(\"GD MSE: \", np.mean(np.square(y - g_a*X-g_b)))\n",
    "print(\"Exact SOl MSE: \", np.mean(np.square(y - e_a*X-e_b)))\n",
    "print(\"SK MSE: \", np.mean(np.square(y - sk_a*X-sk_b)))"
   ]
  },
  {
   "cell_type": "code",
   "execution_count": null,
   "metadata": {},
   "outputs": [],
   "source": []
  },
  {
   "cell_type": "code",
   "execution_count": null,
   "metadata": {},
   "outputs": [],
   "source": [
    "## vẽ hình\n",
    "import matplotlib.pyplot as plt\n",
    "plt.scatter(df[\"Size in feet squared\"], df[\"Price in thousand dollar\"])\n",
    "plt.plot(np.arange(500, 3000), e_a*np.arange(500, 3000) + e_b, label=\"exact sol\") \n",
    "plt.plot(np.arange(500, 3000), g_a*np.arange(500, 3000) + g_b, label=\"GD sol\")   \n",
    "plt.plot(np.arange(500, 3000), sk_a*np.arange(500, 3000) + sk_b, label=\"SK sol\")   \n",
    "plt.legend()\n",
    "plt.xlabel(\"Size in feet squared\")\n",
    "plt.ylabel(\"Price in thousand dollar\")"
   ]
  },
  {
   "cell_type": "code",
   "execution_count": null,
   "metadata": {},
   "outputs": [],
   "source": []
  },
  {
   "cell_type": "code",
   "execution_count": null,
   "metadata": {},
   "outputs": [],
   "source": []
  },
  {
   "cell_type": "markdown",
   "metadata": {},
   "source": [
    "## Bài tập\n",
    "Cho dữ liệu gồm 100 hàng, gồm chiều rộng, chiều dài và giá của một ngôi nhà, hay xây dựng một mô hình dư đoán giá nhà dựa vào chiều dài và rộng với giả thuyết\n",
    "$$ \\text{giá} = a * \\text{rộng} + b* \\text{dài} + c , a, b, c \\in \\mathbb{R}$$\n",
    "- Dùng Gradient Descent giải Linear Regression cho bài toán này \n",
    "    - khởi tạo tham số, chỉnh số vòng lặp và learning rate cho phù hợp\n",
    "    - Hint:  để GD dễ hội tụ hơn nên Normalization input trước\n",
    "- So sánh kết quả (MSE) với Exact Solution và kết quả từ Sklearn\n",
    "\n",
    "## Nộp bài\n",
    "- Code và chạy kết quả lưu vào file notebook NMMH_TH2_MSSV.ipynb (notebook phải có kết quả chạy nếu ko xem như chưa làm)\n",
    "- Nén thành file NMMH_TH2_MSSV.rar (.zip) và nộp về: dinhvietcuong1996@gmail.com\n",
    "- Deadline: 23g59 thứ 3 ngày 02/06/2020. Nộp trễ bị chia đôi số điểm."
   ]
  },
  {
   "cell_type": "code",
   "execution_count": null,
   "metadata": {},
   "outputs": [],
   "source": [
    "df = pd.read_csv(\"House_Price_2.csv\")\n",
    "df"
   ]
  },
  {
   "cell_type": "code",
   "execution_count": null,
   "metadata": {},
   "outputs": [],
   "source": []
  },
  {
   "cell_type": "code",
   "execution_count": null,
   "metadata": {},
   "outputs": [],
   "source": []
  },
  {
   "cell_type": "code",
   "execution_count": null,
   "metadata": {},
   "outputs": [],
   "source": []
  },
  {
   "cell_type": "code",
   "execution_count": null,
   "metadata": {},
   "outputs": [],
   "source": []
  },
  {
   "cell_type": "code",
   "execution_count": null,
   "metadata": {},
   "outputs": [],
   "source": []
  }
 ],
 "metadata": {
  "kernelspec": {
   "display_name": "Python 3",
   "language": "python",
   "name": "python3"
  },
  "language_info": {
   "codemirror_mode": {
    "name": "ipython",
    "version": 3
   },
   "file_extension": ".py",
   "mimetype": "text/x-python",
   "name": "python",
   "nbconvert_exporter": "python",
   "pygments_lexer": "ipython3",
   "version": "3.6.8"
  }
 },
 "nbformat": 4,
 "nbformat_minor": 4
}
