{
 "cells": [
  {
   "cell_type": "markdown",
   "metadata": {},
   "source": [
    "# Lab 06: Decision Tree\n",
    "\n",
    "Bài thực hành này có hai bài tập:\n",
    "- Bài 1 (chỉ đạt tối đa 50% số điểm) Dùng Decision Tree và Random Forest của sklearn trên data cho sẵn, xử lý data, chỉnh các hyper-parameter sao cho accuracy trên tập valid cao nhất. Nên đạt acc xấp xỉ với Logistic Linear Regression như đã làm trong lab 03 để đạt điểm tối đa phần này.\n",
    "- Bài 2 (làm tốt đc 100% điểm luôn) Cài đặt lại thuật toán học Decision Tree theo sườn đã cho (phía dưới), chỉ dùng thư viện mặc định và numpy, chỉ cần chạy ổn không cần ra kết quả tốt bằng sklearn.\n",
    "\n",
    "Làm cả 2 bài cũng đc (tối đa cũng 100% điểm thôi).\n",
    "\n",
    "## Data"
   ]
  },
  {
   "cell_type": "code",
   "execution_count": null,
   "metadata": {},
   "outputs": [],
   "source": [
    "import numpy as np\n",
    "import matplotlib.pyplot as plt\n",
    "import pandas as pd\n",
    "\n",
    "train = pd.read_csv(\"bt_train.csv\")\n",
    "\n",
    "x1_train = train['x1'].values\n",
    "x2_train = train['x2'].values\n",
    "y_train = train['label'].values\n",
    "\n",
    "plt.scatter(x1_train[y_train == 0], x2_train[y_train==0])\n",
    "plt.scatter(x1_train[y_train == 1], x2_train[y_train==1])\n",
    "plt.scatter(x1_train[y_train == 2], x2_train[y_train==2])\n",
    "\n",
    "plt.figure()\n",
    "valid = pd.read_csv(\"bt_valid.csv\")\n",
    "x1_valid = valid['x1'].values\n",
    "x2_valid = valid['x2'].values\n",
    "y_valid = valid['label'].values\n",
    "plt.scatter(x1_valid[y_valid == 0], x2_valid[y_valid==0])\n",
    "plt.scatter(x1_valid[y_valid == 1], x2_valid[y_valid==1])\n",
    "plt.scatter(x1_valid[y_valid == 2], x2_valid[y_valid==2])"
   ]
  },
  {
   "cell_type": "markdown",
   "metadata": {},
   "source": [
    "## Decision Tree\n",
    "Dưới đây là sườn một cây quyết định, hãy xây dựng thuật toán tự xây dựng một cây"
   ]
  },
  {
   "cell_type": "code",
   "execution_count": null,
   "metadata": {},
   "outputs": [],
   "source": [
    "class Node:\n",
    "    \"\"\"Ta giả sử các feature đều ở dạng số thực\n",
    "    node sẽ lưu index của feature và một giá trị ngưỡng split_value\n",
    "    đồng thời cũng lưu node con hoặc là class đoán\n",
    "    khi predict tại node\n",
    "    giá trị của feature được đem so sánh với ngưỡng, tùy vào kết quả lớn hay nhỏ\n",
    "    mà trả về một node hoặc một class khác nhau\n",
    "    \"\"\"\n",
    "    def __init__(self,):\n",
    "        \n",
    "        self.feature_index = 0       ## lưu cột feature số mấy\n",
    "        self.split_value = 0.0       ## lưu ngưỡng\n",
    "        \n",
    "        self.left_node = 0\n",
    "        self.right_node = 0\n",
    "        ## left_node và right_node là một node, hoặc là một class (kiểu biến nào cũng đc) biểu thị dự đoán\n",
    "        \n",
    "    def predict(self, sample):\n",
    "        ## nhận một feature vector\n",
    "        ## trả về một node con, hoặc một class\n",
    "        if sample[self.feature_index] < self.split_value:\n",
    "            return self.left_node\n",
    "        return self.right_node\n",
    "        \n",
    "class DecisionTree:\n",
    "    \n",
    "    def __init__(self,):\n",
    "        self.root = Node()\n",
    "        \n",
    "    def __predict_at_node__(self, sample, node):\n",
    "        ## sample là một vector feature\n",
    "        if type(node) is not Node:\n",
    "            return node\n",
    "        return self.__predict_at_node__(sample, node.predict(sample))\n",
    "        \n",
    "    def predict(self, X):\n",
    "        ## X là một ma trận, mỗi dòng là một sample\n",
    "        return np.asarray([self.__predict_at_node__(sample, self.root) for sample in X])\n"
   ]
  },
  {
   "cell_type": "markdown",
   "metadata": {},
   "source": [
    "Giả sử muốn xây dựng một cây quyết định sau:\n",
    "- Nhận một vector gồm chiều cao và cân nặng, đoán xem người đó có 6 múi không\n",
    "- Nếu chiều cao nhỏ hơn 165 thì chắc chắn không có 6 múi\n",
    "- Nếu cao hơn 165 và nặng hơn hoặc bằng 65 thì có 6 múi"
   ]
  },
  {
   "cell_type": "code",
   "execution_count": null,
   "metadata": {},
   "outputs": [],
   "source": [
    "tree = DecisionTree()\n",
    "tree.root = Node()\n",
    "\n",
    "# chiều cao nhỏ hơn 165 thì ko có 6 múi\n",
    "tree.root.feature_index = 0\n",
    "tree.root.split_value = 168\n",
    "tree.root.left_node = \"ko 6 múi\"    ## feature_value < split_value\n",
    "tree.root.right_node = Node()       ## feature_value >= split_value\n",
    "\n",
    "# chiều cao đã lớn hơn 165 rồi\n",
    "# cân nặng nhỏ hơn 65 thì ko có 6 múi, còn lại có\n",
    "tree.root.right_node.feature_index = 1\n",
    "tree.root.right_node.split_value = 65\n",
    "tree.root.right_node.left_node = \"ko 6 múi\"   ## feature_value < split_value\n",
    "tree.root.right_node.right_node = \"6 múi\"     ## feature_value >= split_value\n",
    "\n",
    "tree.predict([[155, 50], [168, 65], [168, 64]])"
   ]
  },
  {
   "cell_type": "markdown",
   "metadata": {},
   "source": [
    "## Nộp bài\n",
    "- Code và chạy kết quả lưu vào file notebook NMMH_TH6_MSSV.ipynb (notebook phải có kết quả chạy nếu ko xem như chưa làm)\n",
    "- Nén thành file NMMH_TH6_MSSV.rar (.zip) và nộp về: dinhvietcuong1996@gmail.com\n",
    "- Deadline: 23g59 thứ 3 ngày 30/06/2020. Nộp trễ bị chia đôi số điểm."
   ]
  },
  {
   "cell_type": "code",
   "execution_count": null,
   "metadata": {},
   "outputs": [],
   "source": []
  }
 ],
 "metadata": {
  "kernelspec": {
   "display_name": "Python 3",
   "language": "python",
   "name": "python3"
  },
  "language_info": {
   "codemirror_mode": {
    "name": "ipython",
    "version": 3
   },
   "file_extension": ".py",
   "mimetype": "text/x-python",
   "name": "python",
   "nbconvert_exporter": "python",
   "pygments_lexer": "ipython3",
   "version": "3.6.8"
  }
 },
 "nbformat": 4,
 "nbformat_minor": 4
}
